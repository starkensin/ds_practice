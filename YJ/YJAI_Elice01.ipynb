{
 "cells": [
  {
   "cell_type": "code",
   "execution_count": 9,
   "metadata": {},
   "outputs": [
    {
     "name": "stdout",
     "output_type": "stream",
     "text": [
      "Loss: 46.341726\n"
     ]
    }
   ],
   "source": [
    "# Loss Function\n",
    "import numpy as np\n",
    "\n",
    "# x, y, beta_0, beta_1 을 이용해 loss 값을 계산합니다. \n",
    "def loss(x, y, beta_0, beta_1):\n",
    "    N = len(x)\n",
    "    y = np.array(y)\n",
    "    x = np.array(x)\n",
    "    \n",
    "    return np.sum((y-(beta_0*x+beta_1))**2)\n",
    "\n",
    "# 실습에 사용되는 데이터입니다.\n",
    "X = [8.70153760, 3.90825773, 1.89362433, 3.28730045, 7.39333004, 2.98984649, 2.25757240, 9.84450732, 9.94589513, 5.48321616]\n",
    "Y = [5.64413093, 3.75876583, 3.87233310, 4.40990425, 6.43845020, 4.02827829, 2.26105955, 7.15768995, 6.29097441, 5.19692852]\n",
    "\n",
    "# 기울기와 절편이 1, 0.5일 때 Loss를 계산합니다.\n",
    "beta_0 = 1\n",
    "beta_1 = 0.5\n",
    "\n",
    "# 결과를 출력합니다. \n",
    "print(\"Loss: %f\" % loss(X, Y, beta_0, beta_1))"
   ]
  },
  {
   "cell_type": "code",
   "execution_count": 10,
   "metadata": {},
   "outputs": [
    {
     "name": "stdout",
     "output_type": "stream",
     "text": [
      "beta_0: 0.430781\n",
      "beta_1: 2.506181\n",
      "Loss: 3.721640\n"
     ]
    }
   ],
   "source": [
    "# Linear Regression\n",
    "import numpy as np\n",
    "\n",
    "# 선형회귀분석에 필요한 LinearRegression 클래스를 불러옵니다. \n",
    "from sklearn.linear_model import LinearRegression\n",
    "\n",
    "def loss(x, y, beta_0, beta_1):    \n",
    "    N = len(x)\n",
    "    y = np.array(y)\n",
    "    x = np.array(x)\n",
    "    \n",
    "    return np.sum((y-(beta_0*x+beta_1))**2)\n",
    "\n",
    "# 실습에 사용되는 데이터입니다.\n",
    "X = [8.70153760, 3.90825773, 1.89362433, 3.28730045, 7.39333004, 2.98984649, 2.25757240, 9.84450732, 9.94589513, 5.48321616]\n",
    "Y = [5.64413093, 3.75876583, 3.87233310, 4.40990425, 6.43845020, 4.02827829, 2.26105955, 7.15768995, 6.29097441, 5.19692852]\n",
    "\n",
    "# X, Y 데이터를 NumPy 행렬로 변환하세요.\n",
    "train_X = np.array(X).reshape(-1,1)\n",
    "train_Y = np.array(Y).reshape(-1,1)\n",
    "\n",
    "# 선형회귀 모델을 학습하는 코드를 작성하세요.\n",
    "lrmodel = LinearRegression()\n",
    "lrmodel.fit(train_X, train_Y)\n",
    "\n",
    "# 학습한 모델을 통해 얻은 기울기와 절편을 입력하세요.\n",
    "beta_0 = lrmodel.coef_\n",
    "beta_1 = lrmodel.intercept_\n",
    "\n",
    "# 결과를 출력합니다.\n",
    "print(\"beta_0: %f\" % beta_0)\n",
    "print(\"beta_1: %f\" % beta_1)\n",
    "print(\"Loss: %f\" % loss(X, Y, beta_0, beta_1))"
   ]
  }
 ],
 "metadata": {
  "kernelspec": {
   "display_name": "Python [conda env:Anaconda3]",
   "language": "python",
   "name": "conda-env-Anaconda3-py"
  },
  "language_info": {
   "codemirror_mode": {
    "name": "ipython",
    "version": 3
   },
   "file_extension": ".py",
   "mimetype": "text/x-python",
   "name": "python",
   "nbconvert_exporter": "python",
   "pygments_lexer": "ipython3",
   "version": "3.6.4"
  }
 },
 "nbformat": 4,
 "nbformat_minor": 2
}
