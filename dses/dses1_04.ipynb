{
 "cells": [
  {
   "cell_type": "markdown",
   "metadata": {},
   "source": [
    "- python 3.x\n",
    "- Hanseo Jo"
   ]
  },
  {
   "cell_type": "code",
   "execution_count": 93,
   "metadata": {},
   "outputs": [
    {
     "name": "stdout",
     "output_type": "stream",
     "text": [
      "[5, 1, 2, 6, 1, 4, 2, 3, 8, 1]\n",
      "[2, 10, 7, 6, 5, 4, 6, 3, 10, 9]\n",
      "[0.39405520311955033, 0.07881104062391006, 0.15762208124782012, 0.47286624374346037, 0.07881104062391006, 0.31524416249564025, 0.15762208124782012, 0.23643312187173018, 0.6304883249912805, 0.07881104062391006]\n",
      "[0.0936585811581694, 0.468292905790847, 0.3278050340535929, 0.2809757434745082, 0.2341464528954235, 0.1873171623163388, 0.2809757434745082, 0.1404878717372541, 0.468292905790847, 0.4214636152117623]\n"
     ]
    }
   ],
   "source": [
    "# problem 1\n",
    "\n",
    "import numpy as np\n",
    "import math\n",
    "\n",
    "np.random.seed(43)\n",
    "A=[np.random.randint(1,11) for _ in range(10)]\n",
    "print(A)\n",
    "np.random.seed(34)\n",
    "B=[np.random.randint(1,11) for _ in range(10)]\n",
    "print(B)\n",
    "\n",
    "A_U=math.sqrt(sum(x*x for x in A))\n",
    "B_U=math.sqrt(sum(x*x for x in B))\n",
    "A=[ x/A_U for x in A]\n",
    "B=[ x/B_U for x in B]\n",
    "print(A)\n",
    "print(B)"
   ]
  },
  {
   "cell_type": "code",
   "execution_count": 190,
   "metadata": {},
   "outputs": [
    {
     "name": "stdout",
     "output_type": "stream",
     "text": [
      "25174150\n"
     ]
    }
   ],
   "source": [
    "# problem 2\n",
    "\n",
    "a = pow(sum(range(101)),2)\n",
    "b=sum(x*x for x in range(100))\n",
    "print(a-b)"
   ]
  },
  {
   "cell_type": "code",
   "execution_count": 198,
   "metadata": {},
   "outputs": [
    {
     "name": "stdout",
     "output_type": "stream",
     "text": [
      "15\n",
      "3.0\n",
      "40\n",
      "8.0\n"
     ]
    }
   ],
   "source": [
    "# problem 3\n",
    "\n",
    "class Calculator:\n",
    "    def __init__(self, x):\n",
    "        self.x=x\n",
    "    def sum(self):\n",
    "        return sum(self.x)\n",
    "    def avg(self):\n",
    "        return sum(self.x)/len(self.x)\n",
    "    \n",
    "cal1=Calculator([1,2,3,4,5])\n",
    "print(cal1.sum())\n",
    "print(cal1.avg())\n",
    "cal2=Calculator([6,7,8,9,10])\n",
    "print(cal2.sum())\n",
    "print(cal2.avg())"
   ]
  },
  {
   "cell_type": "code",
   "execution_count": 1,
   "metadata": {},
   "outputs": [
    {
     "name": "stdout",
     "output_type": "stream",
     "text": [
      "267333\n",
      "234168\n"
     ]
    }
   ],
   "source": [
    "# problem 4\n",
    "# 3의 배수와 5의 배수의 총합 (1000미만)\n",
    "\n",
    "s=0\n",
    "sum_3=0\n",
    "sum_5=0\n",
    "\n",
    "# 중복 허용\n",
    "for i in range(1, 1001):\n",
    "    if(i%3==0):\n",
    "        sum_3+=i\n",
    "    if(i%5==0):\n",
    "        sum_5+=i\n",
    "print(sum_3+sum_5)\n",
    "# 중복 불허\n",
    "for i in range(1, 1001):\n",
    "    if(i%3==0 or i%5==0):\n",
    "        s+=i\n",
    "print(s)"
   ]
  },
  {
   "cell_type": "code",
   "execution_count": 4,
   "metadata": {},
   "outputs": [
    {
     "name": "stdout",
     "output_type": "stream",
     "text": [
      "min: 5.723474776350764e-09\n"
     ]
    }
   ],
   "source": [
    "# problem 5\n",
    "\n",
    "import random\n",
    "import math\n",
    "\n",
    "def get_gradient(v):\n",
    "    return [4 * (v_i**3) for v_i in v]\n",
    "\n",
    "def step(v, gradient, step_size):\n",
    "    return [v_i + step_size * direction_i \n",
    "            for v_i, direction_i in zip(v, gradient)]\n",
    "\n",
    "v = [random.randint(-10, 10) for _ in range(3)]\n",
    "alpha = -0.05\n",
    "def distance(v, w):\n",
    "    return math.sqrt(sum([(v_i - w_i)**2 for v_i, w_i in zip(v, w)]))\n",
    "while True:\n",
    "    gradient = get_gradient(v)\n",
    "    next_v = step(v, gradient, alpha)\n",
    "    #print(next_v)\n",
    "    if distance(next_v, v) < 0.0000001:\n",
    "        break\n",
    "    v = next_v\n",
    "print(\"min:\",v[0]**4+v[1]**4+v[2]**4)"
   ]
  },
  {
   "cell_type": "code",
   "execution_count": 2,
   "metadata": {},
   "outputs": [
    {
     "name": "stdout",
     "output_type": "stream",
     "text": [
      "aaabbcccccca\n",
      "a3b2c6\n"
     ]
    }
   ],
   "source": [
    "# problem 6\n",
    "Q=input()\n",
    "vs=Q[0]\n",
    "result=\"\"\n",
    "count=1\n",
    "for i in Q[1:]:\n",
    "    if(vs==i):\n",
    "        count+=1\n",
    "    else:\n",
    "        result+=vs\n",
    "        result+=str(count)\n",
    "        count=1\n",
    "        vs=i\n",
    "print(result)"
   ]
  },
  {
   "cell_type": "code",
   "execution_count": 50,
   "metadata": {},
   "outputs": [
    {
     "name": "stdout",
     "output_type": "stream",
     "text": [
      "0123456789 34536 6789012345\n",
      "true false true "
     ]
    }
   ],
   "source": [
    "# problem 7\n",
    "k=list(input().split())\n",
    "def check_once(x):\n",
    "    for i in x:\n",
    "        check_box=[0,0,0,0,0,0,0,0,0,0]\n",
    "        box=list(i)\n",
    "        point=len(box)\n",
    "        for i in range(point):\n",
    "            check_box[int(box.pop())]=1\n",
    "        if(check_box==[1,1,1,1,1,1,1,1,1,1]):\n",
    "            print(\"true\",end=\" \")\n",
    "        else:\n",
    "            print(\"false\",end=\" \")\n",
    "check_once(k)"
   ]
  },
  {
   "cell_type": "code",
   "execution_count": 71,
   "metadata": {},
   "outputs": [
    {
     "data": {
      "text/plain": [
       "[1, 2]"
      ]
     },
     "execution_count": 71,
     "metadata": {},
     "output_type": "execute_result"
    }
   ],
   "source": [
    "# problem 8\n",
    "\n",
    "relation=[{0,1},{0,2},{1,2},{1,3},{2,3},{3,4},{4,5},{5,6},{5,7},{6,8},{7,8},{8,9}]\n",
    "def relationship(x):\n",
    "    box=[]\n",
    "    for i in relation:\n",
    "            if(x in i):\n",
    "                box.append(list(i-{x}).pop())\n",
    "    return box\n",
    "relationship(0)"
   ]
  },
  {
   "cell_type": "code",
   "execution_count": null,
   "metadata": {},
   "outputs": [],
   "source": []
  }
 ],
 "metadata": {
  "kernelspec": {
   "display_name": "Python [default]",
   "language": "python",
   "name": "python3"
  },
  "language_info": {
   "codemirror_mode": {
    "name": "ipython",
    "version": 3
   },
   "file_extension": ".py",
   "mimetype": "text/x-python",
   "name": "python",
   "nbconvert_exporter": "python",
   "pygments_lexer": "ipython3",
   "version": "3.6.4"
  }
 },
 "nbformat": 4,
 "nbformat_minor": 2
}
