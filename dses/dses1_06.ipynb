{
 "cells": [
  {
   "cell_type": "markdown",
   "metadata": {},
   "source": [
    "- Python 3.x\n",
    "- Hanseo Jo"
   ]
  },
  {
   "cell_type": "code",
   "execution_count": 41,
   "metadata": {},
   "outputs": [
    {
     "data": {
      "text/plain": [
       "'C:\\\\Users\\\\hanseo'"
      ]
     },
     "execution_count": 41,
     "metadata": {},
     "output_type": "execute_result"
    }
   ],
   "source": [
    "#pwd"
   ]
  },
  {
   "cell_type": "code",
   "execution_count": 39,
   "metadata": {},
   "outputs": [
    {
     "name": "stdout",
     "output_type": "stream",
     "text": [
      "Appending to test.py\n"
     ]
    }
   ],
   "source": [
    "#%%writefile -a test.py \n",
    "#print(\"hello, world!\")\n",
    "\n",
    "# magic command"
   ]
  },
  {
   "cell_type": "code",
   "execution_count": 30,
   "metadata": {},
   "outputs": [
    {
     "name": "stdout",
     "output_type": "stream",
     "text": [
      "hello, world!\n"
     ]
    }
   ],
   "source": [
    "#run test.py"
   ]
  },
  {
   "cell_type": "code",
   "execution_count": 52,
   "metadata": {},
   "outputs": [
    {
     "name": "stdout",
     "output_type": "stream",
     "text": [
      "[[ 0.51787984  0.89220071  0.32834325  0.          0.44133829]\n",
      " [ 0.62677698  0.47864367  1.          1.          0.39100727]\n",
      " [ 0.79035827  0.58335647  0.35688067  0.92559664  0.        ]\n",
      " [ 0.          0.          0.7507951   0.77815675  1.        ]\n",
      " [ 1.          0.89571613  0.19822046  0.78052918  0.11827443]]\n"
     ]
    }
   ],
   "source": [
    "# Problem 1\n",
    "\n",
    "import numpy as np\n",
    "\n",
    "np.random.seed(0)\n",
    "x=np.random.rand(5,5)\n",
    "\n",
    "for i in range(5):\n",
    "    for j in range(5):\n",
    "        x[j][i]=(x[j][i]-min(x[:,i]))/(max(x[:,i])-min(x[:,i]))\n",
    "print(x)"
   ]
  },
  {
   "cell_type": "code",
   "execution_count": 9,
   "metadata": {},
   "outputs": [
    {
     "name": "stdout",
     "output_type": "stream",
     "text": [
      "[[9, 0, 1, 8], [9, 0, 8, 6], [4, 3, 0, 4], [9, 4, 0, 1]]\n"
     ]
    }
   ],
   "source": [
    "# Problem 2\n",
    "\n",
    "import numpy as np\n",
    "\n",
    "np.random.seed(10)\n",
    "quiz2Arr=np.random.randint(0,10,(4,4))\n",
    "\n",
    "a=[1,2,3,0]\n",
    "qq=quiz2Arr[a]\n",
    "qq=[list(qq[x]) for x in range(4)]\n",
    "print(qq)"
   ]
  },
  {
   "cell_type": "code",
   "execution_count": 46,
   "metadata": {},
   "outputs": [
    {
     "name": "stdout",
     "output_type": "stream",
     "text": [
      "[ 0.54340494  0.27836939  0.42451759  0.84477613  0.00471886  0.12156912\n",
      "  0.67074908  0.82585276  0.13670659  0.57509333]\n"
     ]
    },
    {
     "data": {
      "text/plain": [
       "0.54340494179096543"
      ]
     },
     "execution_count": 46,
     "metadata": {},
     "output_type": "execute_result"
    }
   ],
   "source": [
    "# Problem 3\n",
    "\n",
    "import numpy as np\n",
    "\n",
    "np.random.seed(100)\n",
    "quiz3Arr = np.random.uniform(0,1,10)\n",
    "num = 0.5\n",
    "print(quiz3Arr)\n",
    "min(abs(quiz3Arr-num))+num"
   ]
  },
  {
   "cell_type": "code",
   "execution_count": 100,
   "metadata": {},
   "outputs": [
    {
     "data": {
      "text/plain": [
       "[1, 1, 1, -1, -1]"
      ]
     },
     "execution_count": 100,
     "metadata": {},
     "output_type": "execute_result"
    }
   ],
   "source": [
    "# Problem 4\n",
    "\n",
    "import numpy as np\n",
    "\n",
    "x=np.array([1,3,0,-1,-3])\n",
    "\n",
    "def sign(x):\n",
    "    a=x<0\n",
    "    return [1 if a[i]==False else -1 for i in range(len(a))]\n",
    "sign(x)"
   ]
  },
  {
   "cell_type": "code",
   "execution_count": 77,
   "metadata": {},
   "outputs": [
    {
     "data": {
      "text/html": [
       "<div>\n",
       "<style>\n",
       "    .dataframe thead tr:only-child th {\n",
       "        text-align: right;\n",
       "    }\n",
       "\n",
       "    .dataframe thead th {\n",
       "        text-align: left;\n",
       "    }\n",
       "\n",
       "    .dataframe tbody tr th {\n",
       "        vertical-align: top;\n",
       "    }\n",
       "</style>\n",
       "<table border=\"1\" class=\"dataframe\">\n",
       "  <thead>\n",
       "    <tr style=\"text-align: right;\">\n",
       "      <th></th>\n",
       "      <th>age</th>\n",
       "      <th>animal</th>\n",
       "      <th>priority</th>\n",
       "    </tr>\n",
       "  </thead>\n",
       "  <tbody>\n",
       "    <tr>\n",
       "      <th>a</th>\n",
       "      <td>2.5</td>\n",
       "      <td>cat</td>\n",
       "      <td>yes</td>\n",
       "    </tr>\n",
       "    <tr>\n",
       "      <th>b</th>\n",
       "      <td>3.0</td>\n",
       "      <td>cat</td>\n",
       "      <td>yes</td>\n",
       "    </tr>\n",
       "    <tr>\n",
       "      <th>c</th>\n",
       "      <td>0.5</td>\n",
       "      <td>snake</td>\n",
       "      <td>no</td>\n",
       "    </tr>\n",
       "    <tr>\n",
       "      <th>d</th>\n",
       "      <td>NaN</td>\n",
       "      <td>dog</td>\n",
       "      <td>yes</td>\n",
       "    </tr>\n",
       "    <tr>\n",
       "      <th>e</th>\n",
       "      <td>5.0</td>\n",
       "      <td>dog</td>\n",
       "      <td>no</td>\n",
       "    </tr>\n",
       "    <tr>\n",
       "      <th>f</th>\n",
       "      <td>2.0</td>\n",
       "      <td>cat</td>\n",
       "      <td>no</td>\n",
       "    </tr>\n",
       "    <tr>\n",
       "      <th>g</th>\n",
       "      <td>4.5</td>\n",
       "      <td>snake</td>\n",
       "      <td>no</td>\n",
       "    </tr>\n",
       "    <tr>\n",
       "      <th>h</th>\n",
       "      <td>NaN</td>\n",
       "      <td>cat</td>\n",
       "      <td>yes</td>\n",
       "    </tr>\n",
       "    <tr>\n",
       "      <th>i</th>\n",
       "      <td>7.0</td>\n",
       "      <td>dog</td>\n",
       "      <td>no</td>\n",
       "    </tr>\n",
       "    <tr>\n",
       "      <th>j</th>\n",
       "      <td>3.0</td>\n",
       "      <td>dog</td>\n",
       "      <td>no</td>\n",
       "    </tr>\n",
       "  </tbody>\n",
       "</table>\n",
       "</div>"
      ],
      "text/plain": [
       "   age animal priority\n",
       "a  2.5    cat      yes\n",
       "b  3.0    cat      yes\n",
       "c  0.5  snake       no\n",
       "d  NaN    dog      yes\n",
       "e  5.0    dog       no\n",
       "f  2.0    cat       no\n",
       "g  4.5  snake       no\n",
       "h  NaN    cat      yes\n",
       "i  7.0    dog       no\n",
       "j  3.0    dog       no"
      ]
     },
     "execution_count": 77,
     "metadata": {},
     "output_type": "execute_result"
    }
   ],
   "source": [
    "# Problem 5\n",
    "\n",
    "import numpy as np\n",
    "import pandas as pd\n",
    "\n",
    "data={'animal':['cat','cat','snake','dog','dog','cat','snake','cat','dog','dog'],\n",
    "      'age':[2.5,3,0.5,np.nan,5,2,4.5,np.nan,7,3],\n",
    "      'visits':[1,3,2,3,2,3,1,1,2,1],\n",
    "      'priority':['yes','yes','no','yes','no','no','no','yes','no','no']\n",
    "     }\n",
    "labels=['a','b','c','d','e','f','g','h','i','j']\n",
    "\n",
    "pd.DataFrame(data,index=labels).loc[:,:'priority']"
   ]
  }
 ],
 "metadata": {
  "kernelspec": {
   "display_name": "Python [default]",
   "language": "python",
   "name": "python3"
  },
  "language_info": {
   "codemirror_mode": {
    "name": "ipython",
    "version": 3
   },
   "file_extension": ".py",
   "mimetype": "text/x-python",
   "name": "python",
   "nbconvert_exporter": "python",
   "pygments_lexer": "ipython3",
   "version": "3.6.4"
  }
 },
 "nbformat": 4,
 "nbformat_minor": 2
}
