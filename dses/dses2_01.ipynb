{
 "cells": [
  {
   "cell_type": "code",
   "execution_count": 1,
   "metadata": {},
   "outputs": [
    {
     "data": {
      "text/plain": [
       "'\\n\\nls -a all\\nls -l\\nls -al\\n\\n\\n. 은 숨김을 의미. 숨김파일 숨김디렉토리\\n\\n- is option 약자로\\n-- is option 풀네임으로\\n\\n\\nmkdir 디렉토리 생성\\ntouch 새로운 파일 생성\\n\\nrm(remove)\\n\\n\\n..은 상위파일 의미\\n\\n-은 option\\n-r은 recursive 안에있는 모든거 다 지우고 디렉토리까지 지워라\\n-rf (force 강제)\\n\\nsudo 관리자권한\\n\\nmv 이동 or 이름변경\\nmv ~를 ~로\\n\\ncp 복사\\ncp ~를 ~로\\n\\n\\n\\n'"
      ]
     },
     "execution_count": 1,
     "metadata": {},
     "output_type": "execute_result"
    }
   ],
   "source": [
    "'''\n",
    "\n",
    "ls -a all\n",
    "ls -l\n",
    "ls -al\n",
    "\n",
    "\n",
    ". 은 숨김을 의미. 숨김파일 숨김디렉토리\n",
    "\n",
    "- is option 약자로\n",
    "-- is option 풀네임으로\n",
    "\n",
    "\n",
    "mkdir 디렉토리 생성\n",
    "touch 새로운 파일 생성\n",
    "\n",
    "rm(remove)\n",
    "\n",
    "\n",
    "..은 상위파일 의미\n",
    "\n",
    "-은 option\n",
    "-r은 recursive 안에있는 모든거 다 지우고 디렉토리까지 지워라\n",
    "-rf (force 강제)\n",
    "\n",
    "sudo 관리자권한\n",
    "\n",
    "mv 이동 or 이름변경\n",
    "mv ~를 ~로\n",
    "\n",
    "cp 복사\n",
    "cp ~를 ~로\n",
    "\n",
    "\n",
    "\n",
    "'''"
   ]
  },
  {
   "cell_type": "code",
   "execution_count": 2,
   "metadata": {},
   "outputs": [
    {
     "data": {
      "text/plain": [
       "'\\ngit config\\n\\ngit init 쓰는순간 git repository가 됨\\n\\ngit status\\n\\n\\n-m은 커맨드 라인 위에서 메세지를 작성할 수 있는 옵션\\n\\ngit commit -m \"Create new file <-첫줄은 제목\\ncreat new file: hello.py <-그다음줄부터는 내용\\nThis is my first repo and commit message.\" 닫으면 끝\\n\\n\\ngit remote\\ngit remote add origin(별명) 원래주소\\n\\ngit push (이름) (브랜치)\\n\\n'"
      ]
     },
     "execution_count": 2,
     "metadata": {},
     "output_type": "execute_result"
    }
   ],
   "source": [
    "'''\n",
    "git config\n",
    "\n",
    "git init 쓰는순간 git repository가 됨\n",
    ".git 파일이생김 이거는 레포지토리에 한개만 존재해야함\n",
    "\n",
    "git status\n",
    "\n",
    "\n",
    "[올리는 과정]\n",
    "git add 파일이름\n",
    "-m은 커맨드 라인 위에서 메세지를 작성할 수 있는 옵션\n",
    "\n",
    "git commit -m \"Create new file <-첫줄은 제목\n",
    "creat new file: hello.py <-그다음줄부터는 내용\n",
    "This is my first repo and commit message.\" 닫으면 끝\n",
    "\n",
    "git remote\n",
    "git remote add origin(별명) 원래주소\n",
    "\n",
    "git push (별명이름) (브랜치)\n",
    "\n",
    "'''"
   ]
  },
  {
   "cell_type": "code",
   "execution_count": null,
   "metadata": {},
   "outputs": [],
   "source": [
    "'''\n",
    "git clone (주소)\n",
    "\n",
    "git branch (이름) <- 생성하는법\n",
    "git checkout (이름) <- 이동\n",
    "\n",
    "머지할때는 반영시킬 곳으로와서 땡겨야한다\n",
    "git merge \n",
    "\n",
    "'''"
   ]
  }
 ],
 "metadata": {
  "kernelspec": {
   "display_name": "Python [default]",
   "language": "python",
   "name": "python3"
  },
  "language_info": {
   "codemirror_mode": {
    "name": "ipython",
    "version": 3
   },
   "file_extension": ".py",
   "mimetype": "text/x-python",
   "name": "python",
   "nbconvert_exporter": "python",
   "pygments_lexer": "ipython3",
   "version": "3.6.4"
  }
 },
 "nbformat": 4,
 "nbformat_minor": 2
}
